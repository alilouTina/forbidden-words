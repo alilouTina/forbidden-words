{
 "cells": [
  {
   "cell_type": "code",
   "execution_count": 1,
   "id": "normal-leather",
   "metadata": {
    "ExecuteTime": {
     "end_time": "2021-11-28T19:12:03.767918Z",
     "start_time": "2021-11-28T19:12:03.756894Z"
    }
   },
   "outputs": [],
   "source": [
    "import sys\n",
    "# !{sys.executable} -m pip install pydash"
   ]
  },
  {
   "cell_type": "code",
   "execution_count": 2,
   "id": "nervous-independence",
   "metadata": {
    "ExecuteTime": {
     "end_time": "2021-11-28T19:12:05.715592Z",
     "start_time": "2021-11-28T19:12:04.924603Z"
    }
   },
   "outputs": [
    {
     "name": "stderr",
     "output_type": "stream",
     "text": [
      "/opt/conda/lib/python3.7/site-packages/tqdm/std.py:706: FutureWarning: The Panel class is removed from pandas. Accessing it from the top-level namespace will also be removed in the next version\n",
      "  from pandas import Panel\n"
     ]
    }
   ],
   "source": [
    "import pandas as pd\n",
    "from tqdm import tqdm\n",
    "import numpy as np\n",
    "import regex\n",
    "import pydash\n",
    "from sklearn.feature_extraction.text import CountVectorizer\n",
    "from collections import defaultdict\n",
    "\n",
    "tqdm.pandas()\n",
    "pd.set_option('display.max_columns', None)\n",
    "pd.set_option('display.max_colwidth', None)"
   ]
  },
  {
   "cell_type": "code",
   "execution_count": 3,
   "id": "precise-israel",
   "metadata": {
    "ExecuteTime": {
     "end_time": "2021-11-28T19:12:12.163499Z",
     "start_time": "2021-11-28T19:12:09.679568Z"
    }
   },
   "outputs": [],
   "source": [
    "df = pd.read_csv('./french_tweets.csv')"
   ]
  },
  {
   "cell_type": "code",
   "execution_count": 4,
   "id": "electrical-explosion",
   "metadata": {
    "ExecuteTime": {
     "end_time": "2021-11-28T19:12:14.102045Z",
     "start_time": "2021-11-28T19:12:13.976178Z"
    }
   },
   "outputs": [],
   "source": [
    "df = df.append({'label': '0', \n",
    "                'text': \"Je vais sapeurs pompiers, me dit qu'armée de l'air va rejoindre l'Armée de l'Air après les Sapeurs-Pompiers; je mange de l'air.\"}, \n",
    "               ignore_index=True\n",
    "              )"
   ]
  },
  {
   "cell_type": "code",
   "execution_count": 5,
   "id": "speaking-sound",
   "metadata": {
    "ExecuteTime": {
     "end_time": "2021-11-28T19:12:44.118523Z",
     "start_time": "2021-11-28T19:12:43.768083Z"
    }
   },
   "outputs": [],
   "source": [
    "df = pd.concat([df, df], axis=0, ignore_index=True)"
   ]
  },
  {
   "cell_type": "code",
   "execution_count": 6,
   "id": "wrapped-sheet",
   "metadata": {
    "ExecuteTime": {
     "end_time": "2021-11-28T19:12:45.275087Z",
     "start_time": "2021-11-28T19:12:45.263941Z"
    }
   },
   "outputs": [
    {
     "data": {
      "text/plain": [
       "(3053450, 2)"
      ]
     },
     "execution_count": 6,
     "metadata": {},
     "output_type": "execute_result"
    }
   ],
   "source": [
    "df.shape"
   ]
  },
  {
   "cell_type": "code",
   "execution_count": 7,
   "id": "right-bulgaria",
   "metadata": {
    "ExecuteTime": {
     "end_time": "2021-11-28T19:12:47.117930Z",
     "start_time": "2021-11-28T19:12:47.111993Z"
    }
   },
   "outputs": [],
   "source": [
    "forbidden_words = [\"Gay\", \"Fuck\", \"Putain\", \"Fils de pute\", \"cul\", \"porno\",\n",
    "                   \"putain de merde\", \"qu'il ne\", \"armée de l'air\", \"sapeurs-pompiers\", \"sapeurs pompiers\"]"
   ]
  },
  {
   "cell_type": "code",
   "execution_count": 8,
   "id": "accepted-effect",
   "metadata": {
    "ExecuteTime": {
     "end_time": "2021-11-28T19:12:50.285530Z",
     "start_time": "2021-11-28T19:12:50.276756Z"
    }
   },
   "outputs": [],
   "source": [
    "def preprocess_text(text):\n",
    "    return regex.findall(r'(?u)\\b[\\w\\w+]+\\b', text)"
   ]
  },
  {
   "cell_type": "code",
   "execution_count": 9,
   "id": "entire-treatment",
   "metadata": {
    "ExecuteTime": {
     "end_time": "2021-11-28T19:12:51.182072Z",
     "start_time": "2021-11-28T19:12:51.174178Z"
    }
   },
   "outputs": [],
   "source": [
    "def text_remove_dash(text):\n",
    "    return regex.sub(r'-', ' ', text)"
   ]
  },
  {
   "cell_type": "code",
   "execution_count": 10,
   "id": "creative-restaurant",
   "metadata": {
    "ExecuteTime": {
     "end_time": "2021-11-28T19:12:52.058844Z",
     "start_time": "2021-11-28T19:12:52.045986Z"
    }
   },
   "outputs": [],
   "source": [
    "def preprocess_forbidden_words(words):\n",
    "    forbidden_words = defaultdict(list)\n",
    "    for word in words:\n",
    "        forbidden_words[\n",
    "            \" \".join([subword for subword in preprocess_text(word.lower())])\n",
    "        ].append(word.lower())\n",
    "    return forbidden_words"
   ]
  },
  {
   "cell_type": "code",
   "execution_count": 11,
   "id": "adaptive-matthew",
   "metadata": {
    "ExecuteTime": {
     "end_time": "2021-11-28T19:12:52.976571Z",
     "start_time": "2021-11-28T19:12:52.949819Z"
    }
   },
   "outputs": [],
   "source": [
    "def dataframe_process(dataframe, text_column, replace_by, forbidden_words):\n",
    "    forbidden_words = preprocess_forbidden_words(forbidden_words)\n",
    "    max_len_forbidden_words = max(map(lambda sent: len(sent.split()), forbidden_words.keys()))\n",
    "    tqdm.pandas(desc=\"Preprocess text\")\n",
    "    dataframe['processed_text'] = dataframe[text_column].str.lower().progress_apply(\n",
    "        lambda sent: \" \".join([word for word in preprocess_text(sent)])\n",
    "    )\n",
    "    cv = CountVectorizer(\n",
    "        strip_accents=None,\n",
    "        encoding='latin-1',\n",
    "        analyzer='word',\n",
    "        token_pattern='\\w+',\n",
    "        lowercase=True,\n",
    "        vocabulary=list(forbidden_words.keys()),\n",
    "        stop_words=None,\n",
    "        ngram_range=(1, max_len_forbidden_words)\n",
    "    )\n",
    "    transformed = cv.fit_transform(dataframe['processed_text'])\n",
    "    vocab = np.array(cv.vocabulary)\n",
    "    match_transformed = np.where(transformed.toarray() > 0)\n",
    "    match_df = pd.DataFrame({\n",
    "        'row_index': match_transformed[0],\n",
    "        'cv_features': match_transformed[1]\n",
    "    })\n",
    "    final_match_df = match_df.groupby(\n",
    "        'row_index'\n",
    "    ).agg(list).merge(\n",
    "        dataframe, left_on='row_index', right_index=True\n",
    "    )\n",
    "    del dataframe\n",
    "    tqdm.pandas(desc=\"Search forbidden words\")\n",
    "    final_match_df['found_words'] = final_match_df['cv_features'].progress_apply(\n",
    "        lambda features_indices: pydash.uniq(\n",
    "            pydash.flatten([forbidden_words.get(w) for w in vocab[features_indices]])\n",
    "        )\n",
    "    )\n",
    "    tqdm.pandas(desc=\"Prepare text anonymization patterns\")\n",
    "    final_match_df['replace_pattern'] = fr\"\\b\" + final_match_df['found_words'].progress_apply(\n",
    "        lambda words: pydash.uniq(\n",
    "            pydash.flatten(words + [text_remove_dash(w) for w in words])\n",
    "        )\n",
    "    ).str.join(sep=fr\"\\b|\\b\") + fr\"\\b\"\n",
    "    tqdm.pandas(desc=\"Text anonymization\")\n",
    "    final_match_df['texte_remedié'] = final_match_df.progress_apply(\n",
    "        lambda row: regex.sub(\n",
    "            pattern=row['replace_pattern'], \n",
    "            repl=replace_by, \n",
    "            string=row[text_column], \n",
    "            flags=regex.IGNORECASE\n",
    "        ),\n",
    "        axis=1\n",
    "    ).tolist()\n",
    "    final_match_df['found_words'] = final_match_df['found_words'].str.join(sep=', ')\n",
    "    del final_match_df['processed_text']\n",
    "    del final_match_df['replace_pattern']\n",
    "    del final_match_df['cv_features']\n",
    "    return final_match_df"
   ]
  },
  {
   "cell_type": "code",
   "execution_count": 12,
   "id": "first-midwest",
   "metadata": {
    "ExecuteTime": {
     "end_time": "2021-11-28T19:17:25.107772Z",
     "start_time": "2021-11-28T19:12:56.945364Z"
    }
   },
   "outputs": [
    {
     "name": "stderr",
     "output_type": "stream",
     "text": [
      "/opt/conda/lib/python3.7/site-packages/tqdm/std.py:706: FutureWarning: The Panel class is removed from pandas. Accessing it from the top-level namespace will also be removed in the next version\n",
      "  from pandas import Panel\n",
      "Preprocess text: 100%|██████████| 3053450/3053450 [01:26<00:00, 35314.73it/s]\n",
      "Search forbidden words: 100%|██████████| 18592/18592 [00:01<00:00, 12862.89it/s]\n",
      "Prepare text anonymization patterns: 100%|██████████| 18592/18592 [00:00<00:00, 29099.57it/s]\n",
      "Text anonymization: 100%|██████████| 18592/18592 [00:01<00:00, 15399.86it/s]\n"
     ]
    }
   ],
   "source": [
    "rez = dataframe_process(\n",
    "    dataframe=df,\n",
    "    text_column='text',\n",
    "    replace_by='__XX__',\n",
    "    forbidden_words=forbidden_words\n",
    ")"
   ]
  },
  {
   "cell_type": "code",
   "execution_count": 13,
   "id": "phantom-brief",
   "metadata": {
    "ExecuteTime": {
     "end_time": "2021-11-28T19:17:31.530818Z",
     "start_time": "2021-11-28T19:17:31.492192Z"
    }
   },
   "outputs": [
    {
     "data": {
      "text/html": [
       "<div>\n",
       "<style scoped>\n",
       "    .dataframe tbody tr th:only-of-type {\n",
       "        vertical-align: middle;\n",
       "    }\n",
       "\n",
       "    .dataframe tbody tr th {\n",
       "        vertical-align: top;\n",
       "    }\n",
       "\n",
       "    .dataframe thead th {\n",
       "        text-align: right;\n",
       "    }\n",
       "</style>\n",
       "<table border=\"1\" class=\"dataframe\">\n",
       "  <thead>\n",
       "    <tr style=\"text-align: right;\">\n",
       "      <th></th>\n",
       "      <th>label</th>\n",
       "      <th>text</th>\n",
       "      <th>found_words</th>\n",
       "      <th>texte_remedié</th>\n",
       "    </tr>\n",
       "    <tr>\n",
       "      <th>row_index</th>\n",
       "      <th></th>\n",
       "      <th></th>\n",
       "      <th></th>\n",
       "      <th></th>\n",
       "    </tr>\n",
       "  </thead>\n",
       "  <tbody>\n",
       "    <tr>\n",
       "      <th>1</th>\n",
       "      <td>0</td>\n",
       "      <td>Est contrarié qu'il ne puisse pas mettre à jour son facebook en le télémaignant ... et peut-être pleurer en conséquence, l'école aujourd'hui aussi. blabla!</td>\n",
       "      <td>qu'il ne</td>\n",
       "      <td>Est contrarié __XX__ puisse pas mettre à jour son facebook en le télémaignant ... et peut-être pleurer en conséquence, l'école aujourd'hui aussi. blabla!</td>\n",
       "    </tr>\n",
       "    <tr>\n",
       "      <th>395</th>\n",
       "      <td>0</td>\n",
       "      <td>S'est réveillé et a eu un accident - \"c'est pousser, il pousse!\" Il pleurait parce qu'il ne pouvait s'empêcher de mouiller son pantalon.</td>\n",
       "      <td>qu'il ne</td>\n",
       "      <td>S'est réveillé et a eu un accident - \"c'est pousser, il pousse!\" Il pleurait parce __XX__ pouvait s'empêcher de mouiller son pantalon.</td>\n",
       "    </tr>\n",
       "    <tr>\n",
       "      <th>458</th>\n",
       "      <td>0</td>\n",
       "      <td>Mon drain de baignoire est tiré: il existe 1 travail 2 fait, &amp; amp; Il échoue. J'ai tout drano sur son cul, &amp; amp; Il n'est pas encore drainant. Je veux me doucher, merci!</td>\n",
       "      <td>cul</td>\n",
       "      <td>Mon drain de baignoire est tiré: il existe 1 travail 2 fait, &amp; amp; Il échoue. J'ai tout drano sur son __XX__, &amp; amp; Il n'est pas encore drainant. Je veux me doucher, merci!</td>\n",
       "    </tr>\n",
       "    <tr>\n",
       "      <th>532</th>\n",
       "      <td>0</td>\n",
       "      <td>Fuck omg austins toujours là mais l'homme &amp; lt; 3 love you</td>\n",
       "      <td>fuck</td>\n",
       "      <td>__XX__ omg austins toujours là mais l'homme &amp; lt; 3 love you</td>\n",
       "    </tr>\n",
       "    <tr>\n",
       "      <th>613</th>\n",
       "      <td>0</td>\n",
       "      <td>Je ne veux pas me réveiller tôt demain. Putain, travail!</td>\n",
       "      <td>putain</td>\n",
       "      <td>Je ne veux pas me réveiller tôt demain. __XX__, travail!</td>\n",
       "    </tr>\n",
       "    <tr>\n",
       "      <th>...</th>\n",
       "      <td>...</td>\n",
       "      <td>...</td>\n",
       "      <td>...</td>\n",
       "      <td>...</td>\n",
       "    </tr>\n",
       "    <tr>\n",
       "      <th>3052077</th>\n",
       "      <td>1</td>\n",
       "      <td>Je ne suis pas ce genre de garçon. mon bébé. Bien que je sois sûr qu'il ne serait pas heureux que je viens de dire bébé!</td>\n",
       "      <td>qu'il ne</td>\n",
       "      <td>Je ne suis pas ce genre de garçon. mon bébé. Bien que je sois sûr __XX__ serait pas heureux que je viens de dire bébé!</td>\n",
       "    </tr>\n",
       "    <tr>\n",
       "      <th>3052907</th>\n",
       "      <td>1</td>\n",
       "      <td>L'accès sans fil a été installé dans l'observatoire de baldwin ... trop dommage qu'il ne soit jamais utilisé. Heureusement, cela peut aider à la couverture extérieure</td>\n",
       "      <td>qu'il ne</td>\n",
       "      <td>L'accès sans fil a été installé dans l'observatoire de baldwin ... trop dommage __XX__ soit jamais utilisé. Heureusement, cela peut aider à la couverture extérieure</td>\n",
       "    </tr>\n",
       "    <tr>\n",
       "      <th>3052913</th>\n",
       "      <td>1</td>\n",
       "      <td>Vous le savez bien sûr, vous saurez quand je serai mieux. La bronchite et le stress frappe mon cul lol !!!!!</td>\n",
       "      <td>cul</td>\n",
       "      <td>Vous le savez bien sûr, vous saurez quand je serai mieux. La bronchite et le stress frappe mon __XX__ lol !!!!!</td>\n",
       "    </tr>\n",
       "    <tr>\n",
       "      <th>3053047</th>\n",
       "      <td>1</td>\n",
       "      <td>Hey you - james l'électricien arrive demain vers 8 heures du matin - il dit qu'il ne faudrait pas longtemps</td>\n",
       "      <td>qu'il ne</td>\n",
       "      <td>Hey you - james l'électricien arrive demain vers 8 heures du matin - il dit __XX__ faudrait pas longtemps</td>\n",
       "    </tr>\n",
       "    <tr>\n",
       "      <th>3053449</th>\n",
       "      <td>0</td>\n",
       "      <td>Je vais sapeurs pompiers, me dit qu'armée de l'air va rejoindre l'Armée de l'Air après les Sapeurs-Pompiers; je mange de l'air.</td>\n",
       "      <td>armée de l'air, sapeurs-pompiers, sapeurs pompiers</td>\n",
       "      <td>Je vais __XX__, me dit qu'__XX__ va rejoindre l'__XX__ après les __XX__; je mange de l'air.</td>\n",
       "    </tr>\n",
       "  </tbody>\n",
       "</table>\n",
       "<p>18592 rows × 4 columns</p>\n",
       "</div>"
      ],
      "text/plain": [
       "          label  \\\n",
       "row_index         \n",
       "1             0   \n",
       "395           0   \n",
       "458           0   \n",
       "532           0   \n",
       "613           0   \n",
       "...         ...   \n",
       "3052077       1   \n",
       "3052907       1   \n",
       "3052913       1   \n",
       "3053047       1   \n",
       "3053449       0   \n",
       "\n",
       "                                                                                                                                                                                  text  \\\n",
       "row_index                                                                                                                                                                                \n",
       "1                          Est contrarié qu'il ne puisse pas mettre à jour son facebook en le télémaignant ... et peut-être pleurer en conséquence, l'école aujourd'hui aussi. blabla!   \n",
       "395                                           S'est réveillé et a eu un accident - \"c'est pousser, il pousse!\" Il pleurait parce qu'il ne pouvait s'empêcher de mouiller son pantalon.   \n",
       "458        Mon drain de baignoire est tiré: il existe 1 travail 2 fait, & amp; Il échoue. J'ai tout drano sur son cul, & amp; Il n'est pas encore drainant. Je veux me doucher, merci!   \n",
       "532                                                                                                                         Fuck omg austins toujours là mais l'homme & lt; 3 love you   \n",
       "613                                                                                                                           Je ne veux pas me réveiller tôt demain. Putain, travail!   \n",
       "...                                                                                                                                                                                ...   \n",
       "3052077                                                       Je ne suis pas ce genre de garçon. mon bébé. Bien que je sois sûr qu'il ne serait pas heureux que je viens de dire bébé!   \n",
       "3052907         L'accès sans fil a été installé dans l'observatoire de baldwin ... trop dommage qu'il ne soit jamais utilisé. Heureusement, cela peut aider à la couverture extérieure   \n",
       "3052913                                                                   Vous le savez bien sûr, vous saurez quand je serai mieux. La bronchite et le stress frappe mon cul lol !!!!!   \n",
       "3053047                                                                    Hey you - james l'électricien arrive demain vers 8 heures du matin - il dit qu'il ne faudrait pas longtemps   \n",
       "3053449                                                Je vais sapeurs pompiers, me dit qu'armée de l'air va rejoindre l'Armée de l'Air après les Sapeurs-Pompiers; je mange de l'air.   \n",
       "\n",
       "                                                  found_words  \\\n",
       "row_index                                                       \n",
       "1                                                    qu'il ne   \n",
       "395                                                  qu'il ne   \n",
       "458                                                       cul   \n",
       "532                                                      fuck   \n",
       "613                                                    putain   \n",
       "...                                                       ...   \n",
       "3052077                                              qu'il ne   \n",
       "3052907                                              qu'il ne   \n",
       "3052913                                                   cul   \n",
       "3053047                                              qu'il ne   \n",
       "3053449    armée de l'air, sapeurs-pompiers, sapeurs pompiers   \n",
       "\n",
       "                                                                                                                                                                            texte_remedié  \n",
       "row_index                                                                                                                                                                                  \n",
       "1                               Est contrarié __XX__ puisse pas mettre à jour son facebook en le télémaignant ... et peut-être pleurer en conséquence, l'école aujourd'hui aussi. blabla!  \n",
       "395                                                S'est réveillé et a eu un accident - \"c'est pousser, il pousse!\" Il pleurait parce __XX__ pouvait s'empêcher de mouiller son pantalon.  \n",
       "458        Mon drain de baignoire est tiré: il existe 1 travail 2 fait, & amp; Il échoue. J'ai tout drano sur son __XX__, & amp; Il n'est pas encore drainant. Je veux me doucher, merci!  \n",
       "532                                                                                                                          __XX__ omg austins toujours là mais l'homme & lt; 3 love you  \n",
       "613                                                                                                                              Je ne veux pas me réveiller tôt demain. __XX__, travail!  \n",
       "...                                                                                                                                                                                   ...  \n",
       "3052077                                                            Je ne suis pas ce genre de garçon. mon bébé. Bien que je sois sûr __XX__ serait pas heureux que je viens de dire bébé!  \n",
       "3052907              L'accès sans fil a été installé dans l'observatoire de baldwin ... trop dommage __XX__ soit jamais utilisé. Heureusement, cela peut aider à la couverture extérieure  \n",
       "3052913                                                                   Vous le savez bien sûr, vous saurez quand je serai mieux. La bronchite et le stress frappe mon __XX__ lol !!!!!  \n",
       "3053047                                                                         Hey you - james l'électricien arrive demain vers 8 heures du matin - il dit __XX__ faudrait pas longtemps  \n",
       "3053449                                                                                       Je vais __XX__, me dit qu'__XX__ va rejoindre l'__XX__ après les __XX__; je mange de l'air.  \n",
       "\n",
       "[18592 rows x 4 columns]"
      ]
     },
     "execution_count": 13,
     "metadata": {},
     "output_type": "execute_result"
    }
   ],
   "source": [
    "rez"
   ]
  },
  {
   "cell_type": "code",
   "execution_count": null,
   "id": "authentic-detail",
   "metadata": {},
   "outputs": [],
   "source": []
  }
 ],
 "metadata": {
  "kernelspec": {
   "display_name": "Python 3",
   "language": "python",
   "name": "python3"
  },
  "language_info": {
   "codemirror_mode": {
    "name": "ipython",
    "version": 3
   },
   "file_extension": ".py",
   "mimetype": "text/x-python",
   "name": "python",
   "nbconvert_exporter": "python",
   "pygments_lexer": "ipython3",
   "version": "3.7.6"
  },
  "toc": {
   "base_numbering": 1,
   "nav_menu": {},
   "number_sections": true,
   "sideBar": true,
   "skip_h1_title": false,
   "title_cell": "Table of Contents",
   "title_sidebar": "Contents",
   "toc_cell": false,
   "toc_position": {},
   "toc_section_display": true,
   "toc_window_display": false
  },
  "varInspector": {
   "cols": {
    "lenName": 16,
    "lenType": 16,
    "lenVar": 40
   },
   "kernels_config": {
    "python": {
     "delete_cmd_postfix": "",
     "delete_cmd_prefix": "del ",
     "library": "var_list.py",
     "varRefreshCmd": "print(var_dic_list())"
    },
    "r": {
     "delete_cmd_postfix": ") ",
     "delete_cmd_prefix": "rm(",
     "library": "var_list.r",
     "varRefreshCmd": "cat(var_dic_list()) "
    }
   },
   "types_to_exclude": [
    "module",
    "function",
    "builtin_function_or_method",
    "instance",
    "_Feature"
   ],
   "window_display": false
  }
 },
 "nbformat": 4,
 "nbformat_minor": 5
}
